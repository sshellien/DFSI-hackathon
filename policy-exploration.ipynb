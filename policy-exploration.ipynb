{
 "cells": [
  {
   "cell_type": "code",
   "execution_count": 1,
   "metadata": {},
   "outputs": [],
   "source": [
    "import pandas as pd"
   ]
  },
  {
   "cell_type": "code",
   "execution_count": null,
   "metadata": {
    "scrolled": true
   },
   "outputs": [],
   "source": []
  },
  {
   "cell_type": "code",
   "execution_count": 2,
   "metadata": {},
   "outputs": [],
   "source": [
    "import numpy as np"
   ]
  },
  {
   "cell_type": "code",
   "execution_count": 3,
   "metadata": {},
   "outputs": [],
   "source": [
    "import seaborn as sns"
   ]
  },
  {
   "cell_type": "code",
   "execution_count": 4,
   "metadata": {},
   "outputs": [],
   "source": [
    "import matplotlib.pyplot as plt\n",
    "\n",
    "\n",
    "def plot_cont_vars(dataframe):\n",
    "\n",
    "    plt.figure(figsize=(20,40))\n",
    "\n",
    "\n",
    "    for i in range(len(floats_list)):\n",
    "        #print (floats_list[i])\n",
    "        var = str(floats_list[i])\n",
    "        std_text = std[var].values\n",
    "        kur_text = kur[var].values\n",
    "        skew_text = skew[var].values\n",
    "        #print(std_text)\n",
    "        plt.subplot(10,2,i+1)\n",
    "        bp = sns.distplot(dataframe[var], bins=10)\n",
    "        bp.set_title('Std:{}, Kur:{}, Skew{}'.format(std_text, kur_text, skew_text))"
   ]
  },
  {
   "cell_type": "code",
   "execution_count": 5,
   "metadata": {},
   "outputs": [
    {
     "data": {
      "text/plain": [
       "42496"
      ]
     },
     "execution_count": 5,
     "metadata": {},
     "output_type": "execute_result"
    }
   ],
   "source": [
    "complaints_df = pd.read_csv(\"C:\\\\Hackathon_Data\\\\Complaints data.csv\",encoding = \"ISO-8859-1\")\n",
    "len(complaints_df.index)"
   ]
  },
  {
   "cell_type": "code",
   "execution_count": 6,
   "metadata": {},
   "outputs": [
    {
     "name": "stderr",
     "output_type": "stream",
     "text": [
      "b'Skipping line 4023: expected 83 fields, saw 91\\nSkipping line 4145: expected 83 fields, saw 85\\nSkipping line 4447: expected 83 fields, saw 85\\n'\n"
     ]
    }
   ],
   "source": [
    "claims_df = pd.read_csv(\"C:\\\\Hackathon_Data\\\\R_CLAIM_EXPORT.txt\", encoding = \"ISO-8859-1\", error_bad_lines=False )\n",
    "policy_with_claim = claims_df['policy_bk']\n",
    "policy_with_claim = list(policy_with_claim.values)"
   ]
  },
  {
   "cell_type": "code",
   "execution_count": 7,
   "metadata": {},
   "outputs": [
    {
     "data": {
      "text/plain": [
       "Index(['CAS', 'Goods', 'Nature of Complaint', 'Product', 'Practice',\n",
       "       'Registered Date', 'Customer Suburb', 'Customer State', 'Customer PC',\n",
       "       'Cause', 'Defect', 'Industry', 'Trader', 'Licence', 'Trader Suburb'],\n",
       "      dtype='object')"
      ]
     },
     "execution_count": 7,
     "metadata": {},
     "output_type": "execute_result"
    }
   ],
   "source": [
    "complaints_df.columns"
   ]
  },
  {
   "cell_type": "code",
   "execution_count": 8,
   "metadata": {},
   "outputs": [
    {
     "data": {
      "text/html": [
       "<div>\n",
       "<style scoped>\n",
       "    .dataframe tbody tr th:only-of-type {\n",
       "        vertical-align: middle;\n",
       "    }\n",
       "\n",
       "    .dataframe tbody tr th {\n",
       "        vertical-align: top;\n",
       "    }\n",
       "\n",
       "    .dataframe thead th {\n",
       "        text-align: right;\n",
       "    }\n",
       "</style>\n",
       "<table border=\"1\" class=\"dataframe\">\n",
       "  <thead>\n",
       "    <tr style=\"text-align: right;\">\n",
       "      <th></th>\n",
       "      <th>CAS</th>\n",
       "      <th>Goods</th>\n",
       "      <th>Nature of Complaint</th>\n",
       "      <th>Product</th>\n",
       "      <th>Practice</th>\n",
       "      <th>Registered Date</th>\n",
       "      <th>Customer Suburb</th>\n",
       "      <th>Customer State</th>\n",
       "      <th>Customer PC</th>\n",
       "      <th>Cause</th>\n",
       "      <th>Defect</th>\n",
       "      <th>Industry</th>\n",
       "      <th>Trader</th>\n",
       "      <th>Licence</th>\n",
       "      <th>Trader Suburb</th>\n",
       "    </tr>\n",
       "  </thead>\n",
       "  <tbody>\n",
       "    <tr>\n",
       "      <th>0</th>\n",
       "      <td>c65de2ad4659cae7cf82342d9f76847a041c84543dcab9...</td>\n",
       "      <td>Installation and supply air conditioner</td>\n",
       "      <td>Noises from air conditioner during warm up and...</td>\n",
       "      <td>Air Conditioning and Heating</td>\n",
       "      <td>Unsatisfactory\\Non Performance of Service</td>\n",
       "      <td>29/8/18 00:00</td>\n",
       "      <td>WESTLEIGH</td>\n",
       "      <td>NSW</td>\n",
       "      <td>2120</td>\n",
       "      <td>NaN</td>\n",
       "      <td>NaN</td>\n",
       "      <td>NaN</td>\n",
       "      <td>NaN</td>\n",
       "      <td>NaN</td>\n",
       "      <td>SEVEN HILLS</td>\n",
       "    </tr>\n",
       "    <tr>\n",
       "      <th>1</th>\n",
       "      <td>025bcfe192eefb1510532b98f6d976779af4cf1f7f0896...</td>\n",
       "      <td>Inverters</td>\n",
       "      <td>Purchased a solar system in July 2010.  On 8 A...</td>\n",
       "      <td>Solar PV Panels</td>\n",
       "      <td>Defective Goods</td>\n",
       "      <td>22/9/15 00:00</td>\n",
       "      <td>WESTLEIGH</td>\n",
       "      <td>NSW</td>\n",
       "      <td>2120</td>\n",
       "      <td>NaN</td>\n",
       "      <td>NaN</td>\n",
       "      <td>NaN</td>\n",
       "      <td>NaN</td>\n",
       "      <td>a85445fde902b3b2f122b6bff807989dbc985e82a7a47...</td>\n",
       "      <td>SYDNEY</td>\n",
       "    </tr>\n",
       "    <tr>\n",
       "      <th>2</th>\n",
       "      <td>cdd19e9e674a58e99cb73df3692b7f685502d3a42bc321...</td>\n",
       "      <td>Painting</td>\n",
       "      <td>Payment dispute for pricing only. No defective...</td>\n",
       "      <td>Painting and Decorating</td>\n",
       "      <td>Pricing\\Charges\\Rent\\Fees Not Listed</td>\n",
       "      <td>2/4/12 12:43</td>\n",
       "      <td>NEWPORT</td>\n",
       "      <td>NSW</td>\n",
       "      <td>2106</td>\n",
       "      <td>NaN</td>\n",
       "      <td>NaN</td>\n",
       "      <td>NaN</td>\n",
       "      <td>NaN</td>\n",
       "      <td>491a6c883d3d13b6ef7de6bca9c05933b7f8efa58c90d...</td>\n",
       "      <td>AVALON BEACH</td>\n",
       "    </tr>\n",
       "    <tr>\n",
       "      <th>3</th>\n",
       "      <td>9b4825fad3e2847b910448a6ffbfad8770e0a7dc1f5105...</td>\n",
       "      <td>NaN</td>\n",
       "      <td>Railing on main balcony faded.\\r\\nSalt encrsut...</td>\n",
       "      <td>House Construction</td>\n",
       "      <td>Unsatisfactory\\Non Performance of Service</td>\n",
       "      <td>31/1/11 15:18</td>\n",
       "      <td>FORSTER</td>\n",
       "      <td>NSW</td>\n",
       "      <td>2428</td>\n",
       "      <td>NaN</td>\n",
       "      <td>NaN</td>\n",
       "      <td>NaN</td>\n",
       "      <td>NaN</td>\n",
       "      <td>1841cea175e9f172a9a2973812f695e8be05e1382c754...</td>\n",
       "      <td>ENFIELD</td>\n",
       "    </tr>\n",
       "    <tr>\n",
       "      <th>4</th>\n",
       "      <td>b0cfdb31a5afcb00ec8b92719d2eedae69650a243494f4...</td>\n",
       "      <td>Tranformer solar</td>\n",
       "      <td>Customer awaiting supply of inverters/transfor...</td>\n",
       "      <td>Solar PV Panels</td>\n",
       "      <td>Non\\Partial Supply</td>\n",
       "      <td>22/6/10 13:43</td>\n",
       "      <td>BOAMBEE</td>\n",
       "      <td>NSW</td>\n",
       "      <td>2450</td>\n",
       "      <td>NaN</td>\n",
       "      <td>NaN</td>\n",
       "      <td>NaN</td>\n",
       "      <td>NaN</td>\n",
       "      <td>NaN</td>\n",
       "      <td>ROSEBERY</td>\n",
       "    </tr>\n",
       "  </tbody>\n",
       "</table>\n",
       "</div>"
      ],
      "text/plain": [
       "                                                 CAS  \\\n",
       "0  c65de2ad4659cae7cf82342d9f76847a041c84543dcab9...   \n",
       "1  025bcfe192eefb1510532b98f6d976779af4cf1f7f0896...   \n",
       "2  cdd19e9e674a58e99cb73df3692b7f685502d3a42bc321...   \n",
       "3  9b4825fad3e2847b910448a6ffbfad8770e0a7dc1f5105...   \n",
       "4  b0cfdb31a5afcb00ec8b92719d2eedae69650a243494f4...   \n",
       "\n",
       "                                     Goods  \\\n",
       "0  Installation and supply air conditioner   \n",
       "1                                Inverters   \n",
       "2                                 Painting   \n",
       "3                                      NaN   \n",
       "4                        Tranformer solar    \n",
       "\n",
       "                                 Nature of Complaint  \\\n",
       "0  Noises from air conditioner during warm up and...   \n",
       "1  Purchased a solar system in July 2010.  On 8 A...   \n",
       "2  Payment dispute for pricing only. No defective...   \n",
       "3  Railing on main balcony faded.\\r\\nSalt encrsut...   \n",
       "4  Customer awaiting supply of inverters/transfor...   \n",
       "\n",
       "                        Product                                   Practice  \\\n",
       "0  Air Conditioning and Heating  Unsatisfactory\\Non Performance of Service   \n",
       "1               Solar PV Panels                            Defective Goods   \n",
       "2       Painting and Decorating       Pricing\\Charges\\Rent\\Fees Not Listed   \n",
       "3            House Construction  Unsatisfactory\\Non Performance of Service   \n",
       "4               Solar PV Panels                         Non\\Partial Supply   \n",
       "\n",
       "  Registered Date Customer Suburb Customer State Customer PC Cause Defect  \\\n",
       "0   29/8/18 00:00       WESTLEIGH            NSW        2120   NaN    NaN   \n",
       "1   22/9/15 00:00       WESTLEIGH            NSW        2120   NaN    NaN   \n",
       "2    2/4/12 12:43         NEWPORT            NSW        2106   NaN    NaN   \n",
       "3   31/1/11 15:18         FORSTER            NSW        2428   NaN    NaN   \n",
       "4   22/6/10 13:43         BOAMBEE            NSW        2450   NaN    NaN   \n",
       "\n",
       "  Industry  Trader                                            Licence  \\\n",
       "0      NaN     NaN                                                NaN   \n",
       "1      NaN     NaN   a85445fde902b3b2f122b6bff807989dbc985e82a7a47...   \n",
       "2      NaN     NaN   491a6c883d3d13b6ef7de6bca9c05933b7f8efa58c90d...   \n",
       "3      NaN     NaN   1841cea175e9f172a9a2973812f695e8be05e1382c754...   \n",
       "4      NaN     NaN                                                NaN   \n",
       "\n",
       "  Trader Suburb  \n",
       "0   SEVEN HILLS  \n",
       "1        SYDNEY  \n",
       "2  AVALON BEACH  \n",
       "3       ENFIELD  \n",
       "4      ROSEBERY  "
      ]
     },
     "execution_count": 8,
     "metadata": {},
     "output_type": "execute_result"
    }
   ],
   "source": [
    "complaints_df.head()"
   ]
  },
  {
   "cell_type": "code",
   "execution_count": 9,
   "metadata": {},
   "outputs": [
    {
     "data": {
      "text/plain": [
       "Timestamp('2018-12-10 00:00:00')"
      ]
     },
     "execution_count": 9,
     "metadata": {},
     "output_type": "execute_result"
    }
   ],
   "source": [
    " pd.to_datetime(complaints_df[\"Registered Date\"]).max()"
   ]
  },
  {
   "cell_type": "code",
   "execution_count": 10,
   "metadata": {},
   "outputs": [
    {
     "data": {
      "text/plain": [
       "Timestamp('2010-01-01 22:31:00')"
      ]
     },
     "execution_count": 10,
     "metadata": {},
     "output_type": "execute_result"
    }
   ],
   "source": [
    " pd.to_datetime(complaints_df[\"Registered Date\"]).min()"
   ]
  },
  {
   "cell_type": "code",
   "execution_count": 11,
   "metadata": {},
   "outputs": [
    {
     "name": "stderr",
     "output_type": "stream",
     "text": [
      "b'Skipping line 197673: expected 109 fields, saw 112\\n'\n",
      "b'Skipping line 365536: expected 109 fields, saw 110\\n'\n",
      "b'Skipping line 414650: expected 109 fields, saw 111\\n'\n",
      "b'Skipping line 424887: expected 109 fields, saw 111\\nSkipping line 424888: expected 109 fields, saw 111\\n'\n",
      "C:\\ProgramData\\Anaconda3\\lib\\site-packages\\IPython\\core\\interactiveshell.py:2785: DtypeWarning: Columns (0,2,3,4,5,6,9,10,11,13,17,39,45,48,49,67,68,73,74,76,77,82,86,87,89,90,91,92,93,94,95,96,98,100,101,102,103,104,106,107,108) have mixed types. Specify dtype option on import or set low_memory=False.\n",
      "  interactivity=interactivity, compiler=compiler, result=result)\n"
     ]
    },
    {
     "data": {
      "text/plain": [
       "479988"
      ]
     },
     "execution_count": 11,
     "metadata": {},
     "output_type": "execute_result"
    }
   ],
   "source": [
    "policy_df = pd.read_csv(\"C:\\\\Hackathon_Data\\\\R_POLICY_EXPORT.csv\",encoding = \"ISO-8859-1\", error_bad_lines=False )\n",
    "len(policy_df.index)"
   ]
  },
  {
   "cell_type": "code",
   "execution_count": 12,
   "metadata": {},
   "outputs": [
    {
     "data": {
      "text/plain": [
       "Index(['policy_sk', 'policy_bk', 'insurance_agent', 'issue_date',\n",
       "       'job_plan_type', 'job_plan_number', 'job_section_number',\n",
       "       'job_lot_number', 'job_house_number', 'job_house_number_suffix',\n",
       "       ...\n",
       "       'job_description', 'transaction_effective_date', 'existing_hbcf_claim',\n",
       "       'existing_hbcf_claim_no', 'builder_license_covers_all_wrk',\n",
       "       'transaction_create_date', 'limit_of_insurance',\n",
       "       'project_completion_exception', 'reinstatement_reason',\n",
       "       'is_separate_pricing_req_duplex'],\n",
       "      dtype='object', length=109)"
      ]
     },
     "execution_count": 12,
     "metadata": {},
     "output_type": "execute_result"
    }
   ],
   "source": [
    "policy_df.columns"
   ]
  },
  {
   "cell_type": "code",
   "execution_count": 13,
   "metadata": {},
   "outputs": [],
   "source": [
    "policy_df[\"Has_Claim\"] = policy_df[\"policy_bk\"].isin(policy_with_claim).astype(int)"
   ]
  },
  {
   "cell_type": "code",
   "execution_count": 14,
   "metadata": {},
   "outputs": [],
   "source": [
    "target_variable = \"Has_Claim\""
   ]
  },
  {
   "cell_type": "code",
   "execution_count": 15,
   "metadata": {},
   "outputs": [
    {
     "data": {
      "text/plain": [
       "2"
      ]
     },
     "execution_count": 15,
     "metadata": {},
     "output_type": "execute_result"
    }
   ],
   "source": [
    "policy_df[\"Has_Claim\"].nunique()"
   ]
  },
  {
   "cell_type": "code",
   "execution_count": 16,
   "metadata": {},
   "outputs": [
    {
     "data": {
      "text/plain": [
       "Has_Claim\n",
       "0    475920\n",
       "1      4063\n",
       "Name: policy_bk, dtype: int64"
      ]
     },
     "execution_count": 16,
     "metadata": {},
     "output_type": "execute_result"
    }
   ],
   "source": [
    "policy_df.groupby(by=[\"Has_Claim\"])[\"policy_bk\"].nunique()"
   ]
  },
  {
   "cell_type": "code",
   "execution_count": 17,
   "metadata": {},
   "outputs": [
    {
     "data": {
      "text/plain": [
       "479988"
      ]
     },
     "execution_count": 17,
     "metadata": {},
     "output_type": "execute_result"
    }
   ],
   "source": [
    "policy_number_of_rows = len(policy_df.index)\n",
    "policy_number_of_rows"
   ]
  },
  {
   "cell_type": "code",
   "execution_count": 18,
   "metadata": {},
   "outputs": [],
   "source": [
    "policy_df_first_clean = policy_df.copy()"
   ]
  },
  {
   "cell_type": "code",
   "execution_count": 19,
   "metadata": {},
   "outputs": [],
   "source": [
    "policy_df_first_clean = policy_df_first_clean.dropna(subset=['policy_bk','issue_date','job_postcode','cover_type',\n",
    "                                                             'architect_name',\n",
    "                                                            'current_ind',\n",
    "                                                            'certificate_status_cd',\n",
    "                                                            'limit_of_insurance',\n",
    "                                                            'existing_hbcf_claim'])"
   ]
  },
  {
   "cell_type": "code",
   "execution_count": 20,
   "metadata": {},
   "outputs": [],
   "source": [
    "policy_df_first_clean = policy_df_first_clean.set_index('policy_bk')"
   ]
  },
  {
   "cell_type": "code",
   "execution_count": 21,
   "metadata": {},
   "outputs": [
    {
     "name": "stdout",
     "output_type": "stream",
     "text": [
      "policy_sk 0 so will be kept\n",
      "insurance_agent 0 so will be kept\n",
      "issue_date 0 so will be kept\n",
      "job_plan_type 447592  so will be deleted\n",
      "job_plan_number 455137  so will be deleted\n",
      "job_section_number 479466  so will be deleted\n",
      "job_lot_number 377939  so will be deleted\n",
      "job_house_number 68572  so will be deleted\n",
      "job_house_number_suffix 464793  so will be deleted\n",
      "job_level_type 479623  so will be deleted\n",
      "job_level_number 479580  so will be deleted\n",
      "job_address_site_name 464891  so will be deleted\n",
      "job_building_name 478866  so will be deleted\n",
      "job_street_name 3  so will be deleted\n",
      "job_street_type 1425  so will be deleted\n",
      "job_suburb 0 so will be kept\n",
      "job_postcode 0 so will be kept\n",
      "job_state_cd 0 so will be kept\n",
      "owner_name 0 so will be kept\n",
      "owner_street_address 0 so will be kept\n",
      "owner_suburb 1  so will be deleted\n",
      "owner_postcode 0 so will be kept\n",
      "owner_state_cd 0 so will be kept\n",
      "owner_phone 0 so will be kept\n",
      "owner_mobile_ph 0 so will be kept\n",
      "est_start_date 1583  so will be deleted\n",
      "est_completion_date 1571  so will be deleted\n",
      "act_start_date 479662  so will be deleted\n",
      "act_completion_date 77377  so will be deleted\n",
      "contract_amount 0 so will be kept\n",
      "premium_amount 0 so will be kept\n",
      "stamp_duty_amt 0 so will be kept\n",
      "fire_levy 479662  so will be deleted\n",
      "broker_fee 479662  so will be deleted\n",
      "broker_commision 0 so will be kept\n",
      "premium_gst 0 so will be kept\n",
      "broker_fee_gst 479662  so will be deleted\n",
      "broker_commission_gst 0 so will be kept\n",
      "eligibility_bk 319260  so will be deleted\n",
      "broker_bk 0 so will be kept\n",
      "builder_bk 0 so will be kept\n",
      "builder_abn_bk 0 so will be kept\n",
      "owner_builder_yn 166381  so will be deleted\n",
      "cover_type 0 so will be kept\n",
      "security_type 451791  so will be deleted\n",
      "security_amt 362771  so will be deleted\n",
      "contract_signed_date 319240  so will be deleted\n",
      "builder_job_number 362722  so will be deleted\n",
      "contract_type 313281  so will be deleted\n",
      "multi_unit_stories 108648  so will be deleted\n",
      "multi_unit_dwellings 414  so will be deleted\n",
      "certificate_status_cd 0 so will be kept\n",
      "previous_certificate_bk 0 so will be kept\n",
      "adt_batch_id 0 so will be kept\n",
      "adt_jobstream_name 0 so will be kept\n",
      "adt_timestamp 0 so will be kept\n",
      "effective_start_date 0 so will be kept\n",
      "effective_end_date 479662  so will be deleted\n",
      "create_date 0 so will be kept\n",
      "last_update_date 0 so will be kept\n",
      "current_ind 0 so will be kept\n",
      "latitude 5738  so will be deleted\n",
      "longitude 5738  so will be deleted\n",
      "geo_confidence 5864  so will be deleted\n",
      "broker_abn_record 0 so will be kept\n",
      "uw_company 821  so will be deleted\n",
      "cancellaiton_date 473577  so will be deleted\n",
      "cancellaiton_reason 473584  so will be deleted\n",
      "producer_contact 821  so will be deleted\n",
      "underwriter_contact 425671  so will be deleted\n",
      "owner_abn 0 so will be kept\n",
      "owner_email 0 so will be kept\n",
      "speculative_project 260109  so will be deleted\n",
      "relationship_to_builder 1060  so will be deleted\n",
      "details_of_related_party 0 so will be kept\n",
      "is_housenumber_known 883  so will be deleted\n",
      "other_streettype_desc 479468  so will be deleted\n",
      "builder_project_number 184151  so will be deleted\n",
      "contract_signing_date 11483  so will be deleted\n",
      "management_fee 478451  so will be deleted\n",
      "builder_percentage_margin 466063  so will be deleted\n",
      "architectordesigner_tendered 821  so will be deleted\n",
      "architect_name 0 so will be kept\n",
      "architect_phonenum 0 so will be kept\n",
      "architect_margin 463263  so will be deleted\n",
      "worktobecompleted 266944  so will be deleted\n",
      "worktobecompltddetails 448004  so will be deleted\n",
      "estimated_value 446392  so will be deleted\n",
      "is_project_funded 259004  so will be deleted\n",
      "funded_project_details 467502  so will be deleted\n",
      "fundinginstitution 469960  so will be deleted\n",
      "isprgsspmntsindstryguidelines 259194  so will be deleted\n",
      "prgsspmntsindstrydetails 472020  so will be deleted\n",
      "isprgspmntexceed 259198  so will be deleted\n",
      "prgsspmntexceeddetails 472830  so will be deleted\n",
      "project_description 259207  so will be deleted\n",
      "job_type 0 so will be kept\n",
      "job_number 0 so will be kept\n",
      "job_description 227572  so will be deleted\n",
      "transaction_effective_date 0 so will be kept\n",
      "existing_hbcf_claim 0 so will be kept\n",
      "existing_hbcf_claim_no 479428  so will be deleted\n",
      "builder_license_covers_all_wrk 0 so will be kept\n",
      "transaction_create_date 124303  so will be deleted\n",
      "limit_of_insurance 0 so will be kept\n",
      "project_completion_exception 478559  so will be deleted\n",
      "reinstatement_reason 479650  so will be deleted\n",
      "is_separate_pricing_req_duplex 474158  so will be deleted\n",
      "Has_Claim 0 so will be kept\n"
     ]
    }
   ],
   "source": [
    "for col in policy_df_first_clean.columns:\n",
    "    na_count = policy_df_first_clean[col].isna().sum()\n",
    "    if na_count > 0:\n",
    "        print(col, na_count, \" so will be deleted\")\n",
    "        policy_df_first_clean.drop([col], axis=1, inplace=True)\n",
    "    else:\n",
    "        print(col, na_count, \"so will be kept\")\n",
    "        \n",
    "    #claims_df.isna().sum()"
   ]
  },
  {
   "cell_type": "code",
   "execution_count": null,
   "metadata": {},
   "outputs": [],
   "source": []
  },
  {
   "cell_type": "code",
   "execution_count": 22,
   "metadata": {},
   "outputs": [],
   "source": [
    "policy_date_fields = list(policy_df_first_clean.filter(regex=(\".*date.*\")).columns)"
   ]
  },
  {
   "cell_type": "code",
   "execution_count": 23,
   "metadata": {},
   "outputs": [],
   "source": [
    "for col in policy_date_fields:\n",
    "    policy_df_first_clean[col] = pd.to_datetime(policy_df_first_clean[col])\n",
    "    "
   ]
  },
  {
   "cell_type": "code",
   "execution_count": 48,
   "metadata": {},
   "outputs": [],
   "source": [
    "policy_data_types = pd.DataFrame(policy_df_first_clean.dtypes, columns=['data_type'])\n",
    "data_unique_values = pd.DataFrame(policy_df_first_clean.nunique() , columns=['unique_values'])\n",
    "data_description = pd.concat([data_unique_values, policy_data_types], axis=1)\n",
    "data_description"
   ]
  },
  {
   "cell_type": "code",
   "execution_count": null,
   "metadata": {},
   "outputs": [],
   "source": []
  },
  {
   "cell_type": "code",
   "execution_count": null,
   "metadata": {},
   "outputs": [],
   "source": []
  },
  {
   "cell_type": "code",
   "execution_count": 29,
   "metadata": {},
   "outputs": [],
   "source": [
    "policy_df_first_clean[\"job_postcode\"] =  policy_df_first_clean[\"job_postcode\"].astype(str)\n",
    "policy_df_first_clean[\"certificate_status_cd\"] =  policy_df_first_clean[\"certificate_status_cd\"].astype(str)\n",
    "policy_df_first_clean[\"insurance_agent\"] =  policy_df_first_clean[\"insurance_agent\"].astype(str)\n",
    "policy_df_first_clean[\"owner_postcode\"] =  policy_df_first_clean[\"owner_postcode\"].astype(str)\n",
    "policy_df_first_clean[\"Has_Claim\"] =  policy_df_first_clean[\"Has_Claim\"].astype(str)"
   ]
  },
  {
   "cell_type": "code",
   "execution_count": 30,
   "metadata": {},
   "outputs": [],
   "source": [
    "policy_df_first_clean.drop([\"policy_sk\"], axis=1, inplace=True)"
   ]
  },
  {
   "cell_type": "code",
   "execution_count": 31,
   "metadata": {},
   "outputs": [],
   "source": [
    "policy_df_first_clean.drop([\"job_number\"], axis=1, inplace=True)"
   ]
  },
  {
   "cell_type": "code",
   "execution_count": 32,
   "metadata": {},
   "outputs": [],
   "source": [
    "policy_df_first_clean.drop([\"architect_phonenum\"], axis=1, inplace=True)"
   ]
  },
  {
   "cell_type": "code",
   "execution_count": 33,
   "metadata": {},
   "outputs": [],
   "source": [
    "policy_df_first_clean.drop([\"owner_name\"], axis=1, inplace=True)"
   ]
  },
  {
   "cell_type": "code",
   "execution_count": 34,
   "metadata": {},
   "outputs": [],
   "source": [
    "policy_df_first_clean.drop([\"owner_street_address\"], axis=1, inplace=True)"
   ]
  },
  {
   "cell_type": "code",
   "execution_count": 35,
   "metadata": {},
   "outputs": [],
   "source": [
    "policy_df_first_clean.drop([\"owner_state_cd\"], axis=1, inplace=True)"
   ]
  },
  {
   "cell_type": "code",
   "execution_count": 36,
   "metadata": {},
   "outputs": [],
   "source": [
    "policy_df_first_clean.drop([\"owner_phone\"], axis=1, inplace=True)"
   ]
  },
  {
   "cell_type": "code",
   "execution_count": 37,
   "metadata": {},
   "outputs": [],
   "source": [
    "policy_df_first_clean.drop([\"owner_mobile_ph\"], axis=1, inplace=True)"
   ]
  },
  {
   "cell_type": "code",
   "execution_count": 38,
   "metadata": {},
   "outputs": [],
   "source": [
    "policy_df_first_clean.drop([\"owner_abn\"], axis=1, inplace=True)"
   ]
  },
  {
   "cell_type": "code",
   "execution_count": 39,
   "metadata": {},
   "outputs": [],
   "source": [
    "policy_df_first_clean.drop([\"owner_email\"], axis=1, inplace=True)"
   ]
  },
  {
   "cell_type": "code",
   "execution_count": null,
   "metadata": {},
   "outputs": [],
   "source": []
  },
  {
   "cell_type": "code",
   "execution_count": 40,
   "metadata": {},
   "outputs": [],
   "source": [
    "policy_df_first_clean.drop([\"details_of_related_party\"], axis=1, inplace=True)"
   ]
  },
  {
   "cell_type": "code",
   "execution_count": 41,
   "metadata": {},
   "outputs": [],
   "source": [
    "policy_df_first_clean.drop([\"architect_name\"], axis=1, inplace=True)"
   ]
  },
  {
   "cell_type": "code",
   "execution_count": 42,
   "metadata": {},
   "outputs": [],
   "source": [
    "policy_df_first_clean.drop([\"job_state_cd\"], axis=1, inplace=True)"
   ]
  },
  {
   "cell_type": "code",
   "execution_count": 43,
   "metadata": {},
   "outputs": [],
   "source": [
    "#policy_df_first_clean.drop([\"owner_email\"], axis=1, inplace=True)"
   ]
  },
  {
   "cell_type": "code",
   "execution_count": 44,
   "metadata": {},
   "outputs": [
    {
     "data": {
      "text/html": [
       "<div>\n",
       "<style scoped>\n",
       "    .dataframe tbody tr th:only-of-type {\n",
       "        vertical-align: middle;\n",
       "    }\n",
       "\n",
       "    .dataframe tbody tr th {\n",
       "        vertical-align: top;\n",
       "    }\n",
       "\n",
       "    .dataframe thead th {\n",
       "        text-align: right;\n",
       "    }\n",
       "</style>\n",
       "<table border=\"1\" class=\"dataframe\">\n",
       "  <thead>\n",
       "    <tr style=\"text-align: right;\">\n",
       "      <th></th>\n",
       "      <th>insurance_agent</th>\n",
       "      <th>issue_date</th>\n",
       "      <th>job_suburb</th>\n",
       "      <th>job_postcode</th>\n",
       "      <th>owner_postcode</th>\n",
       "      <th>contract_amount</th>\n",
       "      <th>premium_amount</th>\n",
       "      <th>stamp_duty_amt</th>\n",
       "      <th>broker_commision</th>\n",
       "      <th>premium_gst</th>\n",
       "      <th>...</th>\n",
       "      <th>create_date</th>\n",
       "      <th>last_update_date</th>\n",
       "      <th>current_ind</th>\n",
       "      <th>broker_abn_record</th>\n",
       "      <th>job_type</th>\n",
       "      <th>transaction_effective_date</th>\n",
       "      <th>existing_hbcf_claim</th>\n",
       "      <th>builder_license_covers_all_wrk</th>\n",
       "      <th>limit_of_insurance</th>\n",
       "      <th>Has_Claim</th>\n",
       "    </tr>\n",
       "  </thead>\n",
       "  <tbody>\n",
       "    <tr>\n",
       "      <th>count</th>\n",
       "      <td>479662</td>\n",
       "      <td>479662</td>\n",
       "      <td>479662</td>\n",
       "      <td>479662</td>\n",
       "      <td>479662</td>\n",
       "      <td>4.796620e+05</td>\n",
       "      <td>479662.000000</td>\n",
       "      <td>479662.000000</td>\n",
       "      <td>479662.000000</td>\n",
       "      <td>479662.000000</td>\n",
       "      <td>...</td>\n",
       "      <td>479662</td>\n",
       "      <td>479662</td>\n",
       "      <td>479662</td>\n",
       "      <td>479662</td>\n",
       "      <td>479662</td>\n",
       "      <td>479662</td>\n",
       "      <td>479662.0</td>\n",
       "      <td>479662.0</td>\n",
       "      <td>4.796620e+05</td>\n",
       "      <td>479662</td>\n",
       "    </tr>\n",
       "    <tr>\n",
       "      <th>unique</th>\n",
       "      <td>6</td>\n",
       "      <td>4512</td>\n",
       "      <td>9284</td>\n",
       "      <td>1196</td>\n",
       "      <td>2093</td>\n",
       "      <td>NaN</td>\n",
       "      <td>NaN</td>\n",
       "      <td>NaN</td>\n",
       "      <td>NaN</td>\n",
       "      <td>NaN</td>\n",
       "      <td>...</td>\n",
       "      <td>753</td>\n",
       "      <td>751</td>\n",
       "      <td>1</td>\n",
       "      <td>1</td>\n",
       "      <td>4</td>\n",
       "      <td>98528</td>\n",
       "      <td>6.0</td>\n",
       "      <td>5.0</td>\n",
       "      <td>NaN</td>\n",
       "      <td>2</td>\n",
       "    </tr>\n",
       "    <tr>\n",
       "      <th>top</th>\n",
       "      <td>106</td>\n",
       "      <td>1970-01-01 00:00:00.020180927</td>\n",
       "      <td>KELLYVILLE</td>\n",
       "      <td>2570</td>\n",
       "      <td>2153.0</td>\n",
       "      <td>NaN</td>\n",
       "      <td>NaN</td>\n",
       "      <td>NaN</td>\n",
       "      <td>NaN</td>\n",
       "      <td>NaN</td>\n",
       "      <td>...</td>\n",
       "      <td>2016-03-29 15:25:44</td>\n",
       "      <td>2016-03-29 15:25:44</td>\n",
       "      <td>Y</td>\n",
       "      <td>\\N</td>\n",
       "      <td>Policy Change</td>\n",
       "      <td>1970-01-01 00:00:00.020180604</td>\n",
       "      <td>0.0</td>\n",
       "      <td>1.0</td>\n",
       "      <td>NaN</td>\n",
       "      <td>0</td>\n",
       "    </tr>\n",
       "    <tr>\n",
       "      <th>freq</th>\n",
       "      <td>249642</td>\n",
       "      <td>743</td>\n",
       "      <td>3421</td>\n",
       "      <td>9970</td>\n",
       "      <td>6847</td>\n",
       "      <td>NaN</td>\n",
       "      <td>NaN</td>\n",
       "      <td>NaN</td>\n",
       "      <td>NaN</td>\n",
       "      <td>NaN</td>\n",
       "      <td>...</td>\n",
       "      <td>166381</td>\n",
       "      <td>166381</td>\n",
       "      <td>479662</td>\n",
       "      <td>479662</td>\n",
       "      <td>250273</td>\n",
       "      <td>8265</td>\n",
       "      <td>471564.0</td>\n",
       "      <td>463558.0</td>\n",
       "      <td>NaN</td>\n",
       "      <td>475599</td>\n",
       "    </tr>\n",
       "    <tr>\n",
       "      <th>first</th>\n",
       "      <td>NaN</td>\n",
       "      <td>1970-01-01 00:00:00.020100701</td>\n",
       "      <td>NaN</td>\n",
       "      <td>NaN</td>\n",
       "      <td>NaN</td>\n",
       "      <td>NaN</td>\n",
       "      <td>NaN</td>\n",
       "      <td>NaN</td>\n",
       "      <td>NaN</td>\n",
       "      <td>NaN</td>\n",
       "      <td>...</td>\n",
       "      <td>2016-03-29 15:25:44</td>\n",
       "      <td>2016-03-29 15:25:44</td>\n",
       "      <td>NaN</td>\n",
       "      <td>NaN</td>\n",
       "      <td>NaN</td>\n",
       "      <td>1970-01-01 00:00:00.020101006</td>\n",
       "      <td>NaN</td>\n",
       "      <td>NaN</td>\n",
       "      <td>NaN</td>\n",
       "      <td>NaN</td>\n",
       "    </tr>\n",
       "    <tr>\n",
       "      <th>last</th>\n",
       "      <td>NaN</td>\n",
       "      <td>2018-06-29 00:00:00</td>\n",
       "      <td>NaN</td>\n",
       "      <td>NaN</td>\n",
       "      <td>NaN</td>\n",
       "      <td>NaN</td>\n",
       "      <td>NaN</td>\n",
       "      <td>NaN</td>\n",
       "      <td>NaN</td>\n",
       "      <td>NaN</td>\n",
       "      <td>...</td>\n",
       "      <td>2018-11-01 06:12:23</td>\n",
       "      <td>2018-11-01 06:12:23</td>\n",
       "      <td>NaN</td>\n",
       "      <td>NaN</td>\n",
       "      <td>NaN</td>\n",
       "      <td>2018-10-31 00:00:00</td>\n",
       "      <td>NaN</td>\n",
       "      <td>NaN</td>\n",
       "      <td>NaN</td>\n",
       "      <td>NaN</td>\n",
       "    </tr>\n",
       "    <tr>\n",
       "      <th>mean</th>\n",
       "      <td>NaN</td>\n",
       "      <td>NaN</td>\n",
       "      <td>NaN</td>\n",
       "      <td>NaN</td>\n",
       "      <td>NaN</td>\n",
       "      <td>2.226881e+05</td>\n",
       "      <td>1360.917671</td>\n",
       "      <td>134.729612</td>\n",
       "      <td>140.617971</td>\n",
       "      <td>136.091630</td>\n",
       "      <td>...</td>\n",
       "      <td>NaN</td>\n",
       "      <td>NaN</td>\n",
       "      <td>NaN</td>\n",
       "      <td>NaN</td>\n",
       "      <td>NaN</td>\n",
       "      <td>NaN</td>\n",
       "      <td>NaN</td>\n",
       "      <td>NaN</td>\n",
       "      <td>5.502165e+06</td>\n",
       "      <td>NaN</td>\n",
       "    </tr>\n",
       "    <tr>\n",
       "      <th>std</th>\n",
       "      <td>NaN</td>\n",
       "      <td>NaN</td>\n",
       "      <td>NaN</td>\n",
       "      <td>NaN</td>\n",
       "      <td>NaN</td>\n",
       "      <td>3.890025e+05</td>\n",
       "      <td>3481.825115</td>\n",
       "      <td>344.699602</td>\n",
       "      <td>360.183921</td>\n",
       "      <td>348.182645</td>\n",
       "      <td>...</td>\n",
       "      <td>NaN</td>\n",
       "      <td>NaN</td>\n",
       "      <td>NaN</td>\n",
       "      <td>NaN</td>\n",
       "      <td>NaN</td>\n",
       "      <td>NaN</td>\n",
       "      <td>NaN</td>\n",
       "      <td>NaN</td>\n",
       "      <td>8.693069e+06</td>\n",
       "      <td>NaN</td>\n",
       "    </tr>\n",
       "    <tr>\n",
       "      <th>min</th>\n",
       "      <td>NaN</td>\n",
       "      <td>NaN</td>\n",
       "      <td>NaN</td>\n",
       "      <td>NaN</td>\n",
       "      <td>NaN</td>\n",
       "      <td>0.000000e+00</td>\n",
       "      <td>0.000000</td>\n",
       "      <td>0.000000</td>\n",
       "      <td>0.000000</td>\n",
       "      <td>0.000000</td>\n",
       "      <td>...</td>\n",
       "      <td>NaN</td>\n",
       "      <td>NaN</td>\n",
       "      <td>NaN</td>\n",
       "      <td>NaN</td>\n",
       "      <td>NaN</td>\n",
       "      <td>NaN</td>\n",
       "      <td>NaN</td>\n",
       "      <td>NaN</td>\n",
       "      <td>3.000000e+05</td>\n",
       "      <td>NaN</td>\n",
       "    </tr>\n",
       "    <tr>\n",
       "      <th>25%</th>\n",
       "      <td>NaN</td>\n",
       "      <td>NaN</td>\n",
       "      <td>NaN</td>\n",
       "      <td>NaN</td>\n",
       "      <td>NaN</td>\n",
       "      <td>4.000000e+04</td>\n",
       "      <td>211.680000</td>\n",
       "      <td>20.950000</td>\n",
       "      <td>21.360000</td>\n",
       "      <td>21.170000</td>\n",
       "      <td>...</td>\n",
       "      <td>NaN</td>\n",
       "      <td>NaN</td>\n",
       "      <td>NaN</td>\n",
       "      <td>NaN</td>\n",
       "      <td>NaN</td>\n",
       "      <td>NaN</td>\n",
       "      <td>NaN</td>\n",
       "      <td>NaN</td>\n",
       "      <td>3.400000e+05</td>\n",
       "      <td>NaN</td>\n",
       "    </tr>\n",
       "    <tr>\n",
       "      <th>50%</th>\n",
       "      <td>NaN</td>\n",
       "      <td>NaN</td>\n",
       "      <td>NaN</td>\n",
       "      <td>NaN</td>\n",
       "      <td>NaN</td>\n",
       "      <td>1.525000e+05</td>\n",
       "      <td>787.000000</td>\n",
       "      <td>77.910000</td>\n",
       "      <td>50.790000</td>\n",
       "      <td>78.700000</td>\n",
       "      <td>...</td>\n",
       "      <td>NaN</td>\n",
       "      <td>NaN</td>\n",
       "      <td>NaN</td>\n",
       "      <td>NaN</td>\n",
       "      <td>NaN</td>\n",
       "      <td>NaN</td>\n",
       "      <td>NaN</td>\n",
       "      <td>NaN</td>\n",
       "      <td>3.400000e+05</td>\n",
       "      <td>NaN</td>\n",
       "    </tr>\n",
       "    <tr>\n",
       "      <th>75%</th>\n",
       "      <td>NaN</td>\n",
       "      <td>NaN</td>\n",
       "      <td>NaN</td>\n",
       "      <td>NaN</td>\n",
       "      <td>NaN</td>\n",
       "      <td>3.009538e+05</td>\n",
       "      <td>1712.092500</td>\n",
       "      <td>169.497500</td>\n",
       "      <td>204.750000</td>\n",
       "      <td>171.207500</td>\n",
       "      <td>...</td>\n",
       "      <td>NaN</td>\n",
       "      <td>NaN</td>\n",
       "      <td>NaN</td>\n",
       "      <td>NaN</td>\n",
       "      <td>NaN</td>\n",
       "      <td>NaN</td>\n",
       "      <td>NaN</td>\n",
       "      <td>NaN</td>\n",
       "      <td>2.017122e+07</td>\n",
       "      <td>NaN</td>\n",
       "    </tr>\n",
       "    <tr>\n",
       "      <th>max</th>\n",
       "      <td>NaN</td>\n",
       "      <td>NaN</td>\n",
       "      <td>NaN</td>\n",
       "      <td>NaN</td>\n",
       "      <td>NaN</td>\n",
       "      <td>3.538835e+07</td>\n",
       "      <td>494202.510000</td>\n",
       "      <td>48926.050000</td>\n",
       "      <td>47774.270000</td>\n",
       "      <td>49420.250000</td>\n",
       "      <td>...</td>\n",
       "      <td>NaN</td>\n",
       "      <td>NaN</td>\n",
       "      <td>NaN</td>\n",
       "      <td>NaN</td>\n",
       "      <td>NaN</td>\n",
       "      <td>NaN</td>\n",
       "      <td>NaN</td>\n",
       "      <td>NaN</td>\n",
       "      <td>7.616000e+07</td>\n",
       "      <td>NaN</td>\n",
       "    </tr>\n",
       "  </tbody>\n",
       "</table>\n",
       "<p>13 rows × 31 columns</p>\n",
       "</div>"
      ],
      "text/plain": [
       "       insurance_agent                     issue_date  job_suburb  \\\n",
       "count           479662                         479662      479662   \n",
       "unique               6                           4512        9284   \n",
       "top                106  1970-01-01 00:00:00.020180927  KELLYVILLE   \n",
       "freq            249642                            743        3421   \n",
       "first              NaN  1970-01-01 00:00:00.020100701         NaN   \n",
       "last               NaN            2018-06-29 00:00:00         NaN   \n",
       "mean               NaN                            NaN         NaN   \n",
       "std                NaN                            NaN         NaN   \n",
       "min                NaN                            NaN         NaN   \n",
       "25%                NaN                            NaN         NaN   \n",
       "50%                NaN                            NaN         NaN   \n",
       "75%                NaN                            NaN         NaN   \n",
       "max                NaN                            NaN         NaN   \n",
       "\n",
       "       job_postcode owner_postcode  contract_amount  premium_amount  \\\n",
       "count        479662         479662     4.796620e+05   479662.000000   \n",
       "unique         1196           2093              NaN             NaN   \n",
       "top            2570         2153.0              NaN             NaN   \n",
       "freq           9970           6847              NaN             NaN   \n",
       "first           NaN            NaN              NaN             NaN   \n",
       "last            NaN            NaN              NaN             NaN   \n",
       "mean            NaN            NaN     2.226881e+05     1360.917671   \n",
       "std             NaN            NaN     3.890025e+05     3481.825115   \n",
       "min             NaN            NaN     0.000000e+00        0.000000   \n",
       "25%             NaN            NaN     4.000000e+04      211.680000   \n",
       "50%             NaN            NaN     1.525000e+05      787.000000   \n",
       "75%             NaN            NaN     3.009538e+05     1712.092500   \n",
       "max             NaN            NaN     3.538835e+07   494202.510000   \n",
       "\n",
       "        stamp_duty_amt  broker_commision    premium_gst    ...     \\\n",
       "count    479662.000000     479662.000000  479662.000000    ...      \n",
       "unique             NaN               NaN            NaN    ...      \n",
       "top                NaN               NaN            NaN    ...      \n",
       "freq               NaN               NaN            NaN    ...      \n",
       "first              NaN               NaN            NaN    ...      \n",
       "last               NaN               NaN            NaN    ...      \n",
       "mean        134.729612        140.617971     136.091630    ...      \n",
       "std         344.699602        360.183921     348.182645    ...      \n",
       "min           0.000000          0.000000       0.000000    ...      \n",
       "25%          20.950000         21.360000      21.170000    ...      \n",
       "50%          77.910000         50.790000      78.700000    ...      \n",
       "75%         169.497500        204.750000     171.207500    ...      \n",
       "max       48926.050000      47774.270000   49420.250000    ...      \n",
       "\n",
       "                create_date     last_update_date current_ind  \\\n",
       "count                479662               479662      479662   \n",
       "unique                  753                  751           1   \n",
       "top     2016-03-29 15:25:44  2016-03-29 15:25:44           Y   \n",
       "freq                 166381               166381      479662   \n",
       "first   2016-03-29 15:25:44  2016-03-29 15:25:44         NaN   \n",
       "last    2018-11-01 06:12:23  2018-11-01 06:12:23         NaN   \n",
       "mean                    NaN                  NaN         NaN   \n",
       "std                     NaN                  NaN         NaN   \n",
       "min                     NaN                  NaN         NaN   \n",
       "25%                     NaN                  NaN         NaN   \n",
       "50%                     NaN                  NaN         NaN   \n",
       "75%                     NaN                  NaN         NaN   \n",
       "max                     NaN                  NaN         NaN   \n",
       "\n",
       "       broker_abn_record       job_type     transaction_effective_date  \\\n",
       "count             479662         479662                         479662   \n",
       "unique                 1              4                          98528   \n",
       "top                   \\N  Policy Change  1970-01-01 00:00:00.020180604   \n",
       "freq              479662         250273                           8265   \n",
       "first                NaN            NaN  1970-01-01 00:00:00.020101006   \n",
       "last                 NaN            NaN            2018-10-31 00:00:00   \n",
       "mean                 NaN            NaN                            NaN   \n",
       "std                  NaN            NaN                            NaN   \n",
       "min                  NaN            NaN                            NaN   \n",
       "25%                  NaN            NaN                            NaN   \n",
       "50%                  NaN            NaN                            NaN   \n",
       "75%                  NaN            NaN                            NaN   \n",
       "max                  NaN            NaN                            NaN   \n",
       "\n",
       "       existing_hbcf_claim  builder_license_covers_all_wrk limit_of_insurance  \\\n",
       "count             479662.0                        479662.0       4.796620e+05   \n",
       "unique                 6.0                             5.0                NaN   \n",
       "top                    0.0                             1.0                NaN   \n",
       "freq              471564.0                        463558.0                NaN   \n",
       "first                  NaN                             NaN                NaN   \n",
       "last                   NaN                             NaN                NaN   \n",
       "mean                   NaN                             NaN       5.502165e+06   \n",
       "std                    NaN                             NaN       8.693069e+06   \n",
       "min                    NaN                             NaN       3.000000e+05   \n",
       "25%                    NaN                             NaN       3.400000e+05   \n",
       "50%                    NaN                             NaN       3.400000e+05   \n",
       "75%                    NaN                             NaN       2.017122e+07   \n",
       "max                    NaN                             NaN       7.616000e+07   \n",
       "\n",
       "       Has_Claim  \n",
       "count     479662  \n",
       "unique         2  \n",
       "top            0  \n",
       "freq      475599  \n",
       "first        NaN  \n",
       "last         NaN  \n",
       "mean         NaN  \n",
       "std          NaN  \n",
       "min          NaN  \n",
       "25%          NaN  \n",
       "50%          NaN  \n",
       "75%          NaN  \n",
       "max          NaN  \n",
       "\n",
       "[13 rows x 31 columns]"
      ]
     },
     "execution_count": 44,
     "metadata": {},
     "output_type": "execute_result"
    }
   ],
   "source": [
    "policy_df_first_clean.describe(include = 'all')"
   ]
  },
  {
   "cell_type": "code",
   "execution_count": 67,
   "metadata": {},
   "outputs": [],
   "source": [
    "policy_df_second_clean = policy_df_first_clean.copy()\n",
    "policy_data_types_2 = pd.DataFrame(policy_df_second_clean.dtypes, columns=['data_type'])\n",
    "data_unique_values_2 = pd.DataFrame(policy_df_second_clean.nunique() , columns=['unique_values'])\n",
    "data_description_2 = pd.concat([data_unique_values_2, policy_data_types_2], axis=1)\n",
    "data_description_2 = data_description_2[data_description_2['data_type']==\"object\"]"
   ]
  },
  {
   "cell_type": "code",
   "execution_count": 68,
   "metadata": {},
   "outputs": [],
   "source": [
    "data_description_2 = data_description_2[data_description_2['unique_values'] > 1]"
   ]
  },
  {
   "cell_type": "code",
   "execution_count": 70,
   "metadata": {},
   "outputs": [
    {
     "data": {
      "text/plain": [
       "['insurance_agent',\n",
       " 'cover_type',\n",
       " 'certificate_status_cd',\n",
       " 'adt_jobstream_name',\n",
       " 'job_type',\n",
       " 'existing_hbcf_claim',\n",
       " 'builder_license_covers_all_wrk',\n",
       " 'Has_Claim']"
      ]
     },
     "execution_count": 70,
     "metadata": {},
     "output_type": "execute_result"
    }
   ],
   "source": [
    "cat_vars_to_plot = list(data_description_2[data_description_2['unique_values'] < 100]['unique_values'].index)\n",
    "cat_vars_to_plot"
   ]
  },
  {
   "cell_type": "code",
   "execution_count": 58,
   "metadata": {},
   "outputs": [
    {
     "name": "stdout",
     "output_type": "stream",
     "text": [
      "['contract_amount', 'premium_amount', 'stamp_duty_amt', 'broker_commision', 'premium_gst', 'broker_commission_gst', 'adt_batch_id', 'limit_of_insurance']\n",
      "[]\n",
      "['insurance_agent', 'job_suburb', 'job_postcode', 'owner_postcode', 'broker_bk', 'builder_bk', 'builder_abn_bk', 'cover_type', 'certificate_status_cd', 'previous_certificate_bk', 'adt_jobstream_name', 'adt_timestamp', 'current_ind', 'broker_abn_record', 'job_type', 'existing_hbcf_claim', 'builder_license_covers_all_wrk', 'Has_Claim']\n"
     ]
    }
   ],
   "source": [
    "data_types = pd.DataFrame(policy_df_first_clean.dtypes, columns=['data_type'])\n",
    "#print(data_types)\n",
    "floats = data_types[(data_types['data_type']=='float64')]\n",
    "floats_list = list(floats.index)\n",
    "print(floats_list)\n",
    "\n",
    "ints = data_types[(data_types['data_type']=='int64')]\n",
    "ints_list = list(ints.index)\n",
    "print(ints_list)\n",
    "\n",
    "floats_list = ints_list + floats_list \n",
    "\n",
    "categoricals = data_types[data_types['data_type']=='object']\n",
    "categoricals_list = list(categoricals.index)\n",
    "print(categoricals_list)"
   ]
  },
  {
   "cell_type": "code",
   "execution_count": 59,
   "metadata": {},
   "outputs": [],
   "source": [
    "\n",
    "floats_list.remove('adt_batch_id')"
   ]
  },
  {
   "cell_type": "code",
   "execution_count": 60,
   "metadata": {},
   "outputs": [
    {
     "data": {
      "text/html": [
       "<div>\n",
       "<style scoped>\n",
       "    .dataframe tbody tr th:only-of-type {\n",
       "        vertical-align: middle;\n",
       "    }\n",
       "\n",
       "    .dataframe tbody tr th {\n",
       "        vertical-align: top;\n",
       "    }\n",
       "\n",
       "    .dataframe thead th {\n",
       "        text-align: right;\n",
       "    }\n",
       "</style>\n",
       "<table border=\"1\" class=\"dataframe\">\n",
       "  <thead>\n",
       "    <tr style=\"text-align: right;\">\n",
       "      <th></th>\n",
       "      <th>contract_amount</th>\n",
       "      <th>premium_amount</th>\n",
       "      <th>stamp_duty_amt</th>\n",
       "      <th>broker_commision</th>\n",
       "      <th>premium_gst</th>\n",
       "      <th>broker_commission_gst</th>\n",
       "      <th>limit_of_insurance</th>\n",
       "    </tr>\n",
       "  </thead>\n",
       "  <tbody>\n",
       "    <tr>\n",
       "      <th>Std</th>\n",
       "      <td>389002.523220</td>\n",
       "      <td>3481.825115</td>\n",
       "      <td>344.699602</td>\n",
       "      <td>360.183921</td>\n",
       "      <td>348.182645</td>\n",
       "      <td>36.018449</td>\n",
       "      <td>8.693069e+06</td>\n",
       "    </tr>\n",
       "    <tr>\n",
       "      <th>Skew</th>\n",
       "      <td>20.761197</td>\n",
       "      <td>35.707744</td>\n",
       "      <td>35.707861</td>\n",
       "      <td>32.464142</td>\n",
       "      <td>35.707718</td>\n",
       "      <td>32.463048</td>\n",
       "      <td>1.096863e+00</td>\n",
       "    </tr>\n",
       "    <tr>\n",
       "      <th>Kurtosis</th>\n",
       "      <td>971.015597</td>\n",
       "      <td>2568.286878</td>\n",
       "      <td>2568.304268</td>\n",
       "      <td>2344.988230</td>\n",
       "      <td>2568.284479</td>\n",
       "      <td>2344.778381</td>\n",
       "      <td>-7.833258e-01</td>\n",
       "    </tr>\n",
       "  </tbody>\n",
       "</table>\n",
       "</div>"
      ],
      "text/plain": [
       "          contract_amount  premium_amount  stamp_duty_amt  broker_commision  \\\n",
       "Std         389002.523220     3481.825115      344.699602        360.183921   \n",
       "Skew            20.761197       35.707744       35.707861         32.464142   \n",
       "Kurtosis       971.015597     2568.286878     2568.304268       2344.988230   \n",
       "\n",
       "          premium_gst  broker_commission_gst  limit_of_insurance  \n",
       "Std        348.182645              36.018449        8.693069e+06  \n",
       "Skew        35.707718              32.463048        1.096863e+00  \n",
       "Kurtosis  2568.284479            2344.778381       -7.833258e-01  "
      ]
     },
     "execution_count": 60,
     "metadata": {},
     "output_type": "execute_result"
    }
   ],
   "source": [
    "kur = pd.DataFrame(policy_df_first_clean[floats_list].kurtosis(axis=0), columns=['Kurtosis'])\n",
    "kur = kur.T\n",
    "kur\n",
    "\n",
    "skew = pd.DataFrame(policy_df_first_clean[floats_list].skew(axis=0), columns=['Skew'])\n",
    "skew = skew.T\n",
    "skew\n",
    "\n",
    "std = pd.DataFrame(policy_df_first_clean[floats_list].std(axis=0), columns=['Std'])\n",
    "std = std.T\n",
    "std\n",
    "\n",
    "frames = [std,skew,kur]\n",
    "\n",
    "all_stats = pd.concat(frames)\n",
    "all_stats"
   ]
  },
  {
   "cell_type": "code",
   "execution_count": 61,
   "metadata": {},
   "outputs": [],
   "source": [
    "def log_transform(dataframe): \n",
    "    dataframe_transform = dataframe.copy()\n",
    "\n",
    "    for i in range(len(floats_list)):\n",
    "        var = str(floats_list[i])\n",
    "        std_text = std[var].values\n",
    "        kur_text = kur[var].values\n",
    "        skew_text = skew[var].values\n",
    "        skew_true = skew_text > 2 or skew_text < -2\n",
    "        kur_true = kur_text > 2 or kur_text < -2\n",
    "\n",
    "        if kur_true == True or skew_true == True:\n",
    "            transform = True\n",
    "        else:\n",
    "            transform = False\n",
    "\n",
    "        print(var,'is', transform,'and has kur:',kur_text,'and skew:',skew_text)\n",
    "\n",
    "\n",
    "\n",
    "        if transform == True:    \n",
    "            dataframe_transform[var] = (dataframe_transform[var]+1).apply(np.log)\n",
    "        else:\n",
    "            dataframe_transform[var] = dataframe_transform[var]\n",
    "            \n",
    "    return dataframe_transform"
   ]
  },
  {
   "cell_type": "code",
   "execution_count": 62,
   "metadata": {},
   "outputs": [
    {
     "name": "stdout",
     "output_type": "stream",
     "text": [
      "contract_amount is True and has kur: [971.01559721] and skew: [20.76119679]\n",
      "premium_amount is True and has kur: [2568.28687836] and skew: [35.70774418]\n",
      "stamp_duty_amt is True and has kur: [2568.3042683] and skew: [35.70786148]\n",
      "broker_commision is True and has kur: [2344.9882305] and skew: [32.46414215]\n",
      "premium_gst is True and has kur: [2568.2844791] and skew: [35.70771792]\n",
      "broker_commission_gst is True and has kur: [2344.77838111] and skew: [32.46304837]\n",
      "limit_of_insurance is False and has kur: [-0.78332577] and skew: [1.0968633]\n"
     ]
    }
   ],
   "source": [
    "policy_df_transform = log_transform(policy_df_first_clean)\n"
   ]
  },
  {
   "cell_type": "code",
   "execution_count": null,
   "metadata": {},
   "outputs": [],
   "source": [
    "plot_cont_vars(policy_df_transform)"
   ]
  },
  {
   "cell_type": "code",
   "execution_count": null,
   "metadata": {},
   "outputs": [],
   "source": [
    "g = sns.PairGrid(policy_df_transform, vars=floats_list,\n",
    "                 hue='Has_Claim', palette='RdBu_r')\n",
    "g.map(plt.scatter, alpha=0.8)\n",
    "g.add_legend();"
   ]
  },
  {
   "cell_type": "code",
   "execution_count": 72,
   "metadata": {},
   "outputs": [],
   "source": [
    "def plot_cont_kdes(data_frame,target_list,floats_list,target_var_name):    \n",
    "    target = target_list\n",
    "    plt.figure(figsize=(20,40))\n",
    "    fig_no = 1\n",
    "\n",
    "    for col in floats_list:\n",
    "        df = data_frame[[target_var_name,col]]\n",
    "        #print(df.head())\n",
    "        plt.subplot(8,2,fig_no)   \n",
    "        for cols in target:\n",
    "            #print(target_var_name == cols)\n",
    "            #print(cols)\n",
    "            df_sub = df[df[target_var_name] == cols]\n",
    "            #print(df_sub.head())\n",
    "            df_sub = df_sub[col]\n",
    "            df_sub = df_sub.rename(cols)\n",
    "            #print(df_sub.head())\n",
    "            sns.kdeplot(df_sub, shade=True, legend=True)\n",
    "            plt.title(col)\n",
    "\n",
    "        fig_no = fig_no+1"
   ]
  },
  {
   "cell_type": "code",
   "execution_count": 73,
   "metadata": {},
   "outputs": [
    {
     "name": "stderr",
     "output_type": "stream",
     "text": [
      "C:\\ProgramData\\Anaconda3\\lib\\site-packages\\scipy\\stats\\stats.py:1713: FutureWarning: Using a non-tuple sequence for multidimensional indexing is deprecated; use `arr[tuple(seq)]` instead of `arr[seq]`. In the future this will be interpreted as an array index, `arr[np.array(seq)]`, which will result either in an error or a different result.\n",
      "  return np.add.reduce(sorted[indexer] * weights, axis=axis) / sumval\n"
     ]
    },
    {
     "data": {
      "image/png": "[encoded data removed]",
      "text/plain": [
       "<Figure size 1440x2880 with 7 Axes>"
      ]
     },
     "metadata": {
      "needs_background": "light"
     },
     "output_type": "display_data"
    }
   ],
   "source": [
    "plot_cont_kdes(policy_df_transform,['1','0'],floats_list,'Has_Claim')"
   ]
  },
  {
   "cell_type": "code",
   "execution_count": null,
   "metadata": {},
   "outputs": [],
   "source": [
    "categoricals_list.remove(\"broker_bk\")"
   ]
  },
  {
   "cell_type": "code",
   "execution_count": 74,
   "metadata": {},
   "outputs": [],
   "source": [
    "def cat_plots(dataframe, target_var, categoricals_list, target_var_list):    \n",
    "    dataframe_final = dataframe[categoricals_list]\n",
    "\n",
    "    for cat in categoricals_list:    \n",
    "        df = dataframe_final.groupby([target_var, cat])[cat].count()\n",
    "       \n",
    "        df_pivot = df.unstack(level=0)\n",
    "        df_pivot[target_var_list[0]] = df_pivot[target_var_list[0]]/df_pivot[target_var_list[0]].sum()\n",
    "        df_pivot[target_var_list[1]] = df_pivot[target_var_list[1]]/df_pivot[target_var_list[1]].sum()\n",
    "        \n",
    "\n",
    "        pos = list(range(len(df_pivot.index)))\n",
    "        #print(pos)\n",
    "\n",
    "        width = 0.4\n",
    "        \n",
    "        print(df_pivot.index)\n",
    "\n",
    "        # Plotting the bars\n",
    "        fig, ax = plt.subplots(figsize=(20,10))\n",
    "\n",
    "        # Create a bar with pre_score data,\n",
    "        # in position pos,\n",
    "        plt.bar(pos, \n",
    "                #using df['pre_score'] data,\n",
    "                df_pivot[target_var_list[0]], \n",
    "                # of width\n",
    "                width, \n",
    "                # with alpha 0.5\n",
    "                alpha=0.5, \n",
    "                # with color\n",
    "                color='#EE3224', \n",
    "                # with label the first value in first_name\n",
    "                label=df_pivot.index[0]) \n",
    "\n",
    "        # Create a bar with mid_score data,\n",
    "        # in position pos + some width buffer,\n",
    "        plt.bar([p + width for p in pos], \n",
    "                #using df['mid_score'] data,\n",
    "                df_pivot[target_var_list[1]],\n",
    "                # of width\n",
    "                width, \n",
    "                # with alpha 0.5\n",
    "                alpha=0.5, \n",
    "                # with color\n",
    "                color='#F78F1E', \n",
    "                # with label the second value in first_name\n",
    "                label=df_pivot.index[1]) \n",
    "\n",
    "\n",
    "        # Set the y axis label\n",
    "        ax.set_ylabel('pct')\n",
    "\n",
    "        # Set the chart's title\n",
    "        ax.set_title(cat)\n",
    "\n",
    "        # Set the position of the x ticks\n",
    "        ax.set_xticks([p + (0.5*width) for p in pos])\n",
    "\n",
    "        # Set the labels for the x ticks\n",
    "        ax.set_xticklabels(df_pivot.index.values , rotation=45)\n",
    "\n",
    "        # Setting the x-axis and y-axis limits\n",
    "        #plt.xlim(min(pos)-width, max(pos)+width*4)\n",
    "        #plt.ylim([0, max(df['pre_score'] + df['mid_score'] + df['post_score'])] )\n",
    "\n",
    "        # Adding the legend and showing the plot\n",
    "        plt.legend(target_var_list, loc='upper left')\n",
    "        plt.savefig(\"cat_\"+cat+\".png\")\n",
    "        plt.grid()\n",
    "        plt.show()\n",
    "        plt.clf()"
   ]
  },
  {
   "cell_type": "code",
   "execution_count": 75,
   "metadata": {},
   "outputs": [
    {
     "name": "stdout",
     "output_type": "stream",
     "text": [
      "Index(['101', '106', '106.0', '107', '107.0', '115'], dtype='object', name='insurance_agent')\n"
     ]
    },
    {
     "data": {
      "image/png": "[encoded data removed]",
      "text/plain": [
       "<Figure size 1440x720 with 1 Axes>"
      ]
     },
     "metadata": {
      "needs_background": "light"
     },
     "output_type": "display_data"
    },
    {
     "name": "stdout",
     "output_type": "stream",
     "text": [
      "Index(['C01', 'C02', 'C03', 'C04', 'C05', 'C06', 'C07', 'C08', 'C09'], dtype='object', name='cover_type')\n"
     ]
    },
    {
     "data": {
      "text/plain": [
       "<Figure size 432x288 with 0 Axes>"
      ]
     },
     "metadata": {},
     "output_type": "display_data"
    },
    {
     "data": {
      "image/png": "[encoded data removed]",
      "text/plain": [
       "<Figure size 1440x720 with 1 Axes>"
      ]
     },
     "metadata": {
      "needs_background": "light"
     },
     "output_type": "display_data"
    },
    {
     "name": "stdout",
     "output_type": "stream",
     "text": [
      "Index(['0.0', '4.0'], dtype='object', name='certificate_status_cd')\n"
     ]
    },
    {
     "data": {
      "text/plain": [
       "<Figure size 432x288 with 0 Axes>"
      ]
     },
     "metadata": {},
     "output_type": "display_data"
    },
    {
     "data": {
      "image/png": "[encoded data removed]",
      "text/plain": [
       "<Figure size 1440x720 with 1 Axes>"
      ]
     },
     "metadata": {
      "needs_background": "light"
     },
     "output_type": "display_data"
    },
    {
     "name": "stdout",
     "output_type": "stream",
     "text": [
      "Index(['HBCF_CLN', 'HWI_STG_CIMS'], dtype='object', name='adt_jobstream_name')\n"
     ]
    },
    {
     "data": {
      "text/plain": [
       "<Figure size 432x288 with 0 Axes>"
      ]
     },
     "metadata": {},
     "output_type": "display_data"
    },
    {
     "data": {
      "image/png": "[encoded data removed]",
      "text/plain": [
       "<Figure size 1440x720 with 1 Axes>"
      ]
     },
     "metadata": {
      "needs_background": "light"
     },
     "output_type": "display_data"
    },
    {
     "name": "stdout",
     "output_type": "stream",
     "text": [
      "Index(['Cancellation', 'Policy Change', 'Reinstatement', 'Submission'], dtype='object', name='job_type')\n"
     ]
    },
    {
     "data": {
      "text/plain": [
       "<Figure size 432x288 with 0 Axes>"
      ]
     },
     "metadata": {},
     "output_type": "display_data"
    },
    {
     "data": {
      "image/png": "[encoded data removed]",
      "text/plain": [
       "<Figure size 1440x720 with 1 Axes>"
      ]
     },
     "metadata": {
      "needs_background": "light"
     },
     "output_type": "display_data"
    },
    {
     "name": "stdout",
     "output_type": "stream",
     "text": [
      "Index([0, 1, '0', '1', 'false', 'true'], dtype='object', name='existing_hbcf_claim')\n"
     ]
    },
    {
     "data": {
      "text/plain": [
       "<Figure size 432x288 with 0 Axes>"
      ]
     },
     "metadata": {},
     "output_type": "display_data"
    },
    {
     "data": {
      "image/png": "[encoded data removed]",
      "text/plain": [
       "<Figure size 1440x720 with 1 Axes>"
      ]
     },
     "metadata": {
      "needs_background": "light"
     },
     "output_type": "display_data"
    },
    {
     "name": "stdout",
     "output_type": "stream",
     "text": [
      "Index([0, 1, '0', '1', 'true'], dtype='object', name='builder_license_covers_all_wrk')\n"
     ]
    },
    {
     "data": {
      "text/plain": [
       "<Figure size 432x288 with 0 Axes>"
      ]
     },
     "metadata": {},
     "output_type": "display_data"
    },
    {
     "data": {
      "image/png": "[encoded data removed]",
      "text/plain": [
       "<Figure size 1440x720 with 1 Axes>"
      ]
     },
     "metadata": {
      "needs_background": "light"
     },
     "output_type": "display_data"
    },
    {
     "name": "stdout",
     "output_type": "stream",
     "text": [
      "Index(['0', '1'], dtype='object', name='Has_Claim')\n"
     ]
    },
    {
     "data": {
      "text/plain": [
       "<Figure size 432x288 with 0 Axes>"
      ]
     },
     "metadata": {},
     "output_type": "display_data"
    },
    {
     "data": {
      "image/png": "[encoded data removed]",
      "text/plain": [
       "<Figure size 1440x720 with 1 Axes>"
      ]
     },
     "metadata": {
      "needs_background": "light"
     },
     "output_type": "display_data"
    },
    {
     "data": {
      "text/plain": [
       "<Figure size 432x288 with 0 Axes>"
      ]
     },
     "metadata": {},
     "output_type": "display_data"
    }
   ],
   "source": [
    "cat_plots(policy_df_transform, 'Has_Claim', cat_vars_to_plot, ['1','0'])"
   ]
  },
  {
   "cell_type": "code",
   "execution_count": null,
   "metadata": {},
   "outputs": [],
   "source": [
    "categoricals_list"
   ]
  },
  {
   "cell_type": "code",
   "execution_count": null,
   "metadata": {},
   "outputs": [],
   "source": []
  },
  {
   "cell_type": "code",
   "execution_count": null,
   "metadata": {},
   "outputs": [],
   "source": [
    "policy_df_transform[categoricals_list]"
   ]
  },
  {
   "cell_type": "code",
   "execution_count": null,
   "metadata": {},
   "outputs": [],
   "source": []
  },
  {
   "cell_type": "code",
   "execution_count": null,
   "metadata": {},
   "outputs": [],
   "source": []
  },
  {
   "cell_type": "code",
   "execution_count": null,
   "metadata": {},
   "outputs": [],
   "source": []
  },
  {
   "cell_type": "code",
   "execution_count": null,
   "metadata": {},
   "outputs": [],
   "source": []
  },
  {
   "cell_type": "code",
   "execution_count": null,
   "metadata": {},
   "outputs": [],
   "source": []
  },
  {
   "cell_type": "code",
   "execution_count": null,
   "metadata": {},
   "outputs": [],
   "source": []
  },
  {
   "cell_type": "code",
   "execution_count": null,
   "metadata": {},
   "outputs": [],
   "source": []
  },
  {
   "cell_type": "code",
   "execution_count": null,
   "metadata": {},
   "outputs": [],
   "source": []
  },
  {
   "cell_type": "code",
   "execution_count": null,
   "metadata": {},
   "outputs": [],
   "source": []
  },
  {
   "cell_type": "code",
   "execution_count": null,
   "metadata": {},
   "outputs": [],
   "source": []
  },
  {
   "cell_type": "code",
   "execution_count": null,
   "metadata": {},
   "outputs": [],
   "source": []
  },
  {
   "cell_type": "code",
   "execution_count": null,
   "metadata": {},
   "outputs": [],
   "source": []
  },
  {
   "cell_type": "code",
   "execution_count": null,
   "metadata": {},
   "outputs": [],
   "source": [
    "claims_df = pd.read_csv(\"C:\\\\Hackathon_Data\\\\R_CLAIM_EXPORT.txt\", encoding = \"ISO-8859-1\", error_bad_lines=False )\n",
    "policy_with_claim = claims_df['policy_bk']\n",
    "policy_with_claim = list(policy_with_claim.values)"
   ]
  },
  {
   "cell_type": "code",
   "execution_count": null,
   "metadata": {},
   "outputs": [],
   "source": [
    "\n"
   ]
  },
  {
   "cell_type": "code",
   "execution_count": null,
   "metadata": {},
   "outputs": [],
   "source": [
    "claims_df[\"date_originally_created\"] = pd.to_datetime(claims_df[\"date_originally_created\"])"
   ]
  },
  {
   "cell_type": "code",
   "execution_count": null,
   "metadata": {},
   "outputs": [],
   "source": [
    "claims_df.tail()"
   ]
  },
  {
   "cell_type": "code",
   "execution_count": null,
   "metadata": {},
   "outputs": [],
   "source": [
    "claims_df['certificate_bk'].nunique()"
   ]
  },
  {
   "cell_type": "code",
   "execution_count": null,
   "metadata": {},
   "outputs": [],
   "source": [
    "claim_builders = claims_df.groupby(by=[\"certificate_bk\"])[\"cims_claim_number_sk\"].nunique()\n",
    "claim_builders"
   ]
  },
  {
   "cell_type": "code",
   "execution_count": null,
   "metadata": {},
   "outputs": [],
   "source": [
    "number_of_rows = len(claims_df.index)\n",
    "number_of_rows"
   ]
  },
  {
   "cell_type": "code",
   "execution_count": null,
   "metadata": {},
   "outputs": [],
   "source": [
    "claims_df_first_clean = claims_df.copy()"
   ]
  },
  {
   "cell_type": "code",
   "execution_count": null,
   "metadata": {},
   "outputs": [],
   "source": [
    "for col in claims_df_first_clean.columns:\n",
    "    na_count = claims_df_first_clean[col].isna().sum()\n",
    "    if na_count > 0:\n",
    "        print(col, na_count, \" so will be deleted\")\n",
    "        claims_df_first_clean.drop([col], axis=1, inplace=True)\n",
    "    else:\n",
    "        print(col, na_count, \"so will be kept\")\n",
    "        \n",
    "    #claims_df.isna().sum()"
   ]
  },
  {
   "cell_type": "code",
   "execution_count": null,
   "metadata": {},
   "outputs": [],
   "source": [
    "claims_df_first_clean.columns"
   ]
  },
  {
   "cell_type": "code",
   "execution_count": null,
   "metadata": {},
   "outputs": [],
   "source": [
    "claim_unique_vals = claims_df_first_clean.nunique().sort_values(axis=0, ascending=False)\n",
    "claim_unique_vals[claim_unique_vals < 10]\n",
    "final_cat_list = claim_unique_vals.index\n",
    "final_cat_list"
   ]
  },
  {
   "cell_type": "code",
   "execution_count": null,
   "metadata": {},
   "outputs": [],
   "source": [
    "for col in claims_df_first_clean:\n",
    "    if claim_unique_vals[col] < 10:\n",
    "        grouped = claims_df_first_clean.groupby(by=[col])[\"cims_claim_number_sk\"].count()\n",
    "        print(grouped)\n",
    "    else:\n",
    "        pass"
   ]
  },
  {
   "cell_type": "code",
   "execution_count": null,
   "metadata": {},
   "outputs": [],
   "source": [
    "grouped = claims_df.groupby(by=[\"claim_status_code\"])[\"cims_claim_number_sk\"].count()\n",
    "grouped"
   ]
  },
  {
   "cell_type": "code",
   "execution_count": null,
   "metadata": {},
   "outputs": [],
   "source": [
    "claims_df_second_clean = claims_df_first_clean.copy()\n",
    "len(claims_df_second_clean)"
   ]
  },
  {
   "cell_type": "code",
   "execution_count": null,
   "metadata": {},
   "outputs": [],
   "source": [
    "claims_df_a = claims_df_second_clean[claims_df_second_clean['claim_status_code'] == 'A']\n",
    "claims_df_f = claims_df_second_clean[claims_df_second_clean['claim_status_code'] == 'F']\n",
    "a_and_f = [claims_df_a, claims_df_f]\n",
    "claims_df_second_clean = pd.concat(a_and_f)"
   ]
  },
  {
   "cell_type": "code",
   "execution_count": null,
   "metadata": {},
   "outputs": [],
   "source": [
    "len(claims_df_second_clean.index)"
   ]
  },
  {
   "cell_type": "code",
   "execution_count": null,
   "metadata": {},
   "outputs": [],
   "source": [
    "data_types = pd.DataFrame(claims_df_second_clean.dtypes, columns=['data_type'])\n",
    "print(data_types)\n",
    "floats = data_types[(data_types['data_type']=='float64')]\n",
    "floats_list = list(floats.index)\n",
    "print(floats_list)\n",
    "\n",
    "ints = data_types[(data_types['data_type']=='int64')]\n",
    "ints_list = list(ints.index)\n",
    "print(ints_list)\n",
    "\n",
    "floats_list = ints_list + floats_list \n",
    "\n",
    "categoricals = data_types[data_types['data_type']=='object']\n",
    "categoricals_list = list(categoricals.index)\n",
    "print(categoricals_list)"
   ]
  },
  {
   "cell_type": "code",
   "execution_count": null,
   "metadata": {},
   "outputs": [],
   "source": [
    "kur = pd.DataFrame(claims_df_second_clean[floats_list].kurtosis(axis=0), columns=['Kurtosis'])\n",
    "kur = kur.T\n",
    "kur\n",
    "\n",
    "skew = pd.DataFrame(claims_df_second_clean[floats_list].skew(axis=0), columns=['Skew'])\n",
    "skew = skew.T\n",
    "skew\n",
    "\n",
    "std = pd.DataFrame(claims_df_second_clean[floats_list].std(axis=0), columns=['Std'])\n",
    "std = std.T\n",
    "std\n",
    "\n",
    "frames = [std,skew,kur]\n",
    "\n",
    "all_stats = pd.concat(frames)\n",
    "all_stats"
   ]
  },
  {
   "cell_type": "code",
   "execution_count": null,
   "metadata": {},
   "outputs": [],
   "source": [
    "import matplotlib.pyplot as plt\n",
    "import seaborn as sns\n",
    "\n",
    "plt.figure(figsize=(20,40))\n",
    "\n",
    "\n",
    "for i in range(len(floats_list)):\n",
    "    #print (floats_list[i])\n",
    "    var = str(floats_list[i])\n",
    "    std_text = std[var].values\n",
    "    kur_text = kur[var].values\n",
    "    skew_text = skew[var].values\n",
    "    #print(std_text)\n",
    "    plt.subplot(10,2,i+1)\n",
    "    bp = sns.distplot(claims_df_second_clean[var], bins=10)\n",
    "    bp.set_title('Std:{}, Kur:{}, Skew{}'.format(std_text, kur_text, skew_text))\n",
    "    \n"
   ]
  },
  {
   "cell_type": "code",
   "execution_count": null,
   "metadata": {},
   "outputs": [],
   "source": [
    "claims_df_transform = claims_df_second_clean.copy()\n",
    "\n",
    "for i in range(len(floats_list)):\n",
    "    var = str(floats_list[i])\n",
    "    std_text = std[var].values\n",
    "    kur_text = kur[var].values\n",
    "    skew_text = skew[var].values\n",
    "    skew_true = skew_text > 2 or skew_text < -2\n",
    "    kur_true = kur_text > 2 or kur_text < -2\n",
    "    \n",
    "    if kur_true == True or skew_true == True:\n",
    "        transform = True\n",
    "    else:\n",
    "        transform = False\n",
    "    \n",
    "    print(var,'is', transform,'and has kur:',kur_text,'and skew:',skew_text)\n",
    "        \n",
    "            \n",
    "        \n",
    "    if transform == True:    \n",
    "        claims_df_transform[var] = (claims_df_transform[var]+1).apply(np.log)\n",
    "    else:\n",
    "        claims_df_transform[var] = claims_df_transform[var]\n",
    "    "
   ]
  },
  {
   "cell_type": "code",
   "execution_count": null,
   "metadata": {},
   "outputs": [],
   "source": [
    "kur_trans = pd.DataFrame(claims_df_transform[floats_list].kurtosis(axis=0), columns=['Kurtosis'])\n",
    "kur_trans = kur_trans.T\n",
    "skew_trans = pd.DataFrame(claims_df_transform[floats_list].skew(axis=0), columns=['Skew'])\n",
    "skew_trans = skew_trans.T\n",
    "std_trans = pd.DataFrame(claims_df_transform[floats_list].std(axis=0), columns=['Std'])\n",
    "std_trans = std_trans.T\n",
    "std_trans"
   ]
  },
  {
   "cell_type": "code",
   "execution_count": null,
   "metadata": {},
   "outputs": [],
   "source": [
    "plt.figure(figsize=(20,40))\n",
    "\n",
    "from math import sqrt\n",
    "\n",
    "for i in range(len(floats_list)):\n",
    "    #print (floats_list[i])\n",
    "    var = str(floats_list[i])\n",
    "    std_text = std_trans[var].values\n",
    "    kur_text = kur_trans[var].values\n",
    "    skew_text = skew_trans[var].values\n",
    "    #print(std_text)\n",
    "    plt.subplot(10,2,i+1)\n",
    "    \n",
    "    nbins = int(round(sqrt(claims_df_transform[var].max())+10,0))\n",
    "    #print (nbins)\n",
    "    \n",
    "    bp = sns.distplot(claims_df_transform[var], bins=nbins)\n",
    "    bp.set_title('{} -- Std:{}, Kur:{}, Skew{}'.format(var, std_text, kur_text, skew_text))"
   ]
  },
  {
   "cell_type": "code",
   "execution_count": null,
   "metadata": {},
   "outputs": [],
   "source": [
    "target = ['F','A']\n",
    "plt.figure(figsize=(20,40))\n",
    "fig_no = 1\n",
    "\n",
    "for col in floats_list:\n",
    "    df = claims_df_transform[['claim_status_code',col]]\n",
    "    plt.subplot(8,2,fig_no)   \n",
    "    for cols in target:\n",
    "        #print(cols)\n",
    "        df_sub = df[df['claim_status_code'] == cols]\n",
    "        #print(df_sub.head())\n",
    "        df_sub = df_sub[col]\n",
    "        df_sub = df_sub.rename(cols)\n",
    "        #print(df_sub.head())\n",
    "        sns.kdeplot(df_sub, shade=True, legend=True)\n",
    "        plt.title(col)\n",
    "        \n",
    "    fig_no = fig_no+1"
   ]
  },
  {
   "cell_type": "code",
   "execution_count": null,
   "metadata": {},
   "outputs": [],
   "source": [
    "g = sns.PairGrid(claims_df_transform, vars=floats_list,\n",
    "                 hue='claim_status_code', palette='RdBu_r')\n",
    "g.map(plt.scatter, alpha=0.8)\n",
    "g.add_legend();"
   ]
  },
  {
   "cell_type": "code",
   "execution_count": null,
   "metadata": {},
   "outputs": [],
   "source": [
    "categoricals_list_for_plots = categoricals_list.copy()\n",
    "\n",
    "categoricals_list_for_plots.remove('claim_status_code')\n",
    "\n",
    "categoricals_list_for_plots"
   ]
  },
  {
   "cell_type": "code",
   "execution_count": null,
   "metadata": {},
   "outputs": [],
   "source": [
    "df = claims_df_transform.groupby(['claim_status_code','claim_number'])['claim_number'].count()\n",
    "\n",
    "print(df.index, type(df))"
   ]
  },
  {
   "cell_type": "code",
   "execution_count": null,
   "metadata": {},
   "outputs": [],
   "source": [
    "claims_df_final = claims_df_second_clean[final_cat_list]\n",
    "\n",
    "for cat in final_cat_list:    \n",
    "    df = claims_df_final.groupby(['claim_status_code', cat])[cat].count()\n",
    "    df_pivot = df.unstack(level=0)\n",
    "    df_pivot['F'] = df_pivot['F']/df_pivot['F'].sum()\n",
    "    df_pivot['A'] = df_pivot['A']/df_pivot['A'].sum()\n",
    "    print (df_pivot)\n",
    "    \n",
    "    pos = list(range(len(df_pivot.index)))\n",
    "    #print(pos)\n",
    "\n",
    "    width = 0.4\n",
    "\n",
    "    # Plotting the bars\n",
    "    fig, ax = plt.subplots(figsize=(20,10))\n",
    "\n",
    "    # Create a bar with pre_score data,\n",
    "    # in position pos,\n",
    "    '''plt.bar(pos, \n",
    "            #using df['pre_score'] data,\n",
    "            df_pivot['F'], \n",
    "            # of width\n",
    "            width, \n",
    "            # with alpha 0.5\n",
    "            alpha=0.5, \n",
    "            # with color\n",
    "            color='#EE3224', \n",
    "            # with label the first value in first_name\n",
    "            label=df_pivot.index[0]) \n",
    "\n",
    "    # Create a bar with mid_score data,\n",
    "    # in position pos + some width buffer,\n",
    "    plt.bar([p + width for p in pos], \n",
    "            #using df['mid_score'] data,\n",
    "            df_pivot['A'],\n",
    "            # of width\n",
    "            width, \n",
    "            # with alpha 0.5\n",
    "            alpha=0.5, \n",
    "            # with color\n",
    "            color='#F78F1E', \n",
    "            # with label the second value in first_name\n",
    "            label=df_pivot.index[1]) \n",
    "\n",
    "\n",
    "    # Set the y axis label\n",
    "    ax.set_ylabel('pct')\n",
    "\n",
    "    # Set the chart's title\n",
    "    ax.set_title(cat)\n",
    "\n",
    "    # Set the position of the x ticks\n",
    "    ax.set_xticks([p + (0.5*width) for p in pos])\n",
    "\n",
    "    # Set the labels for the x ticks\n",
    "    ax.set_xticklabels(df_pivot.index.values , rotation=45)\n",
    "\n",
    "    # Setting the x-axis and y-axis limits\n",
    "    #plt.xlim(min(pos)-width, max(pos)+width*4)\n",
    "    #plt.ylim([0, max(df['pre_score'] + df['mid_score'] + df['post_score'])] )\n",
    "\n",
    "    # Adding the legend and showing the plot\n",
    "    plt.legend(['F','A'], loc='upper left')\n",
    "    plt.grid()\n",
    "    plt.show()\n",
    "    plt.clf()'''"
   ]
  },
  {
   "cell_type": "code",
   "execution_count": null,
   "metadata": {},
   "outputs": [],
   "source": [
    "pos = list(range(len(df_pivot.index)))\n",
    "print(pos)\n",
    "\n",
    "width = 0.4\n",
    "\n",
    "# Plotting the bars\n",
    "fig, ax = plt.subplots(figsize=(10,5))\n",
    "\n",
    "# Create a bar with pre_score data,\n",
    "# in position pos,\n",
    "plt.bar(pos, \n",
    "        #using df['pre_score'] data,\n",
    "        df_pivot['Bad'], \n",
    "        # of width\n",
    "        width, \n",
    "        # with alpha 0.5\n",
    "        alpha=0.5, \n",
    "        # with color\n",
    "        color='#EE3224', \n",
    "        # with label the first value in first_name\n",
    "        label=df_pivot.index[0]) \n",
    "\n",
    "# Create a bar with mid_score data,\n",
    "# in position pos + some width buffer,\n",
    "plt.bar([p + width for p in pos], \n",
    "        #using df['mid_score'] data,\n",
    "        df_pivot['Good'],\n",
    "        # of width\n",
    "        width, \n",
    "        # with alpha 0.5\n",
    "        alpha=0.5, \n",
    "        # with color\n",
    "        color='#F78F1E', \n",
    "        # with label the second value in first_name\n",
    "        label=df_pivot.index[1]) \n",
    " \n",
    "\n",
    "# Set the y axis label\n",
    "ax.set_ylabel('pct')\n",
    "\n",
    "# Set the chart's title\n",
    "ax.set_title('Home Onwnership Split')\n",
    "\n",
    "# Set the position of the x ticks\n",
    "ax.set_xticks([p + (0.5*width) for p in pos])\n",
    "\n",
    "# Set the labels for the x ticks\n",
    "ax.set_xticklabels(df_pivot.index.values)\n",
    "\n",
    "# Setting the x-axis and y-axis limits\n",
    "#plt.xlim(min(pos)-width, max(pos)+width*4)\n",
    "#plt.ylim([0, max(df['pre_score'] + df['mid_score'] + df['post_score'])] )\n",
    "\n",
    "# Adding the legend and showing the plot\n",
    "plt.legend(['Bad','Good'], loc='upper left')\n",
    "plt.grid()\n",
    "plt.show()"
   ]
  },
  {
   "cell_type": "code",
   "execution_count": null,
   "metadata": {},
   "outputs": [],
   "source": []
  },
  {
   "cell_type": "code",
   "execution_count": null,
   "metadata": {},
   "outputs": [],
   "source": []
  },
  {
   "cell_type": "code",
   "execution_count": null,
   "metadata": {},
   "outputs": [],
   "source": []
  },
  {
   "cell_type": "code",
   "execution_count": null,
   "metadata": {},
   "outputs": [],
   "source": []
  },
  {
   "cell_type": "code",
   "execution_count": null,
   "metadata": {},
   "outputs": [],
   "source": [
    "np.sort(policy_df.columns.values)"
   ]
  },
  {
   "cell_type": "raw",
   "metadata": {},
   "source": [
    "cert_df = pd.read_csv(\"C:\\\\Hackathon_Data\\\\R_BUILDER_EXPORT.txt\", encoding = \"ISO-8859-1\", error_bad_lines=False )"
   ]
  },
  {
   "cell_type": "code",
   "execution_count": null,
   "metadata": {},
   "outputs": [],
   "source": [
    "builder_df = pd.read_csv(\"C:\\\\Hackathon_Data\\\\R_BUILDER_EXPORT.txt\", encoding = \"ISO-8859-1\", error_bad_lines=False )"
   ]
  },
  {
   "cell_type": "code",
   "execution_count": null,
   "metadata": {},
   "outputs": [],
   "source": [
    "builder_df"
   ]
  },
  {
   "cell_type": "code",
   "execution_count": null,
   "metadata": {},
   "outputs": [],
   "source": [
    "    "
   ]
  }
 ],
 "metadata": {
  "kernelspec": {
   "display_name": "Python 3",
   "language": "python",
   "name": "python3"
  },
  "language_info": {
   "codemirror_mode": {
    "name": "ipython",
    "version": 3
   },
   "file_extension": ".py",
   "mimetype": "text/x-python",
   "name": "python",
   "nbconvert_exporter": "python",
   "pygments_lexer": "ipython3",
   "version": "3.7.0"
  }
 },
 "nbformat": 4,
 "nbformat_minor": 2
}
